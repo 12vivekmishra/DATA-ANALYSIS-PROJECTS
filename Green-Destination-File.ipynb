{
 "cells": [
  {
   "cell_type": "code",
   "execution_count": 1,
   "id": "191c8c27",
   "metadata": {},
   "outputs": [
    {
     "name": "stderr",
     "output_type": "stream",
     "text": [
      "C:\\Users\\vivek\\anaconda3\\lib\\site-packages\\pandas\\core\\computation\\expressions.py:21: UserWarning: Pandas requires version '2.8.4' or newer of 'numexpr' (version '2.7.3' currently installed).\n",
      "  from pandas.core.computation.check import NUMEXPR_INSTALLED\n",
      "C:\\Users\\vivek\\anaconda3\\lib\\site-packages\\pandas\\core\\arrays\\masked.py:60: UserWarning: Pandas requires version '1.3.6' or newer of 'bottleneck' (version '1.3.2' currently installed).\n",
      "  from pandas.core import (\n"
     ]
    },
    {
     "data": {
      "text/plain": [
       "(   Age Attrition     BusinessTravel  DailyRate              Department  \\\n",
       " 0   41       Yes      Travel_Rarely       1102                   Sales   \n",
       " 1   49        No  Travel_Frequently        279  Research & Development   \n",
       " 2   37       Yes      Travel_Rarely       1373  Research & Development   \n",
       " 3   33        No  Travel_Frequently       1392  Research & Development   \n",
       " 4   27        No      Travel_Rarely        591  Research & Development   \n",
       " \n",
       "    DistanceFromHome  Education EducationField  EmployeeCount  EmployeeNumber  \\\n",
       " 0                 1          2  Life Sciences              1               1   \n",
       " 1                 8          1  Life Sciences              1               2   \n",
       " 2                 2          2          Other              1               4   \n",
       " 3                 3          4  Life Sciences              1               5   \n",
       " 4                 2          1        Medical              1               7   \n",
       " \n",
       "    ...  RelationshipSatisfaction StandardHours  StockOptionLevel  \\\n",
       " 0  ...                         1            80                 0   \n",
       " 1  ...                         4            80                 1   \n",
       " 2  ...                         2            80                 0   \n",
       " 3  ...                         3            80                 0   \n",
       " 4  ...                         4            80                 1   \n",
       " \n",
       "    TotalWorkingYears  TrainingTimesLastYear WorkLifeBalance  YearsAtCompany  \\\n",
       " 0                  8                      0               1               6   \n",
       " 1                 10                      3               3              10   \n",
       " 2                  7                      3               3               0   \n",
       " 3                  8                      3               3               8   \n",
       " 4                  6                      3               3               2   \n",
       " \n",
       "   YearsInCurrentRole  YearsSinceLastPromotion  YearsWithCurrManager  \n",
       " 0                  4                        0                     5  \n",
       " 1                  7                        1                     7  \n",
       " 2                  0                        0                     0  \n",
       " 3                  7                        3                     0  \n",
       " 4                  2                        2                     2  \n",
       " \n",
       " [5 rows x 35 columns],\n",
       " Index(['Age', 'Attrition', 'BusinessTravel', 'DailyRate', 'Department',\n",
       "        'DistanceFromHome', 'Education', 'EducationField', 'EmployeeCount',\n",
       "        'EmployeeNumber', 'EnvironmentSatisfaction', 'Gender', 'HourlyRate',\n",
       "        'JobInvolvement', 'JobLevel', 'JobRole', 'JobSatisfaction',\n",
       "        'MaritalStatus', 'MonthlyIncome', 'MonthlyRate', 'NumCompaniesWorked',\n",
       "        'Over18', 'OverTime', 'PercentSalaryHike', 'PerformanceRating',\n",
       "        'RelationshipSatisfaction', 'StandardHours', 'StockOptionLevel',\n",
       "        'TotalWorkingYears', 'TrainingTimesLastYear', 'WorkLifeBalance',\n",
       "        'YearsAtCompany', 'YearsInCurrentRole', 'YearsSinceLastPromotion',\n",
       "        'YearsWithCurrManager'],\n",
       "       dtype='object'))"
      ]
     },
     "execution_count": 1,
     "metadata": {},
     "output_type": "execute_result"
    }
   ],
   "source": [
    "import pandas as pd\n",
    "\n",
    "# Load the dataset\n",
    "file_path = 'greendestination (1).csv'\n",
    "data = pd.read_csv(file_path)\n",
    "\n",
    "# Display the first few rows of the dataset to understand its structure\n",
    "data.head(), data.columns\n"
   ]
  },
  {
   "cell_type": "markdown",
   "id": "83fcadbf",
   "metadata": {},
   "source": [
    "The dataset contains various columns related to employee demographics, job characteristics, and their attrition status. Key columns of interest for this analysis include:\n",
    "\n",
    "Age: Age of the employee.\n",
    "Attrition: Whether the employee has left the company (Yes/No).\n",
    "YearsAtCompany: Number of years the employee has been at the company.\n",
    "MonthlyIncome: Monthly income of the employee"
   ]
  },
  {
   "cell_type": "code",
   "execution_count": 4,
   "id": "2b9b3418",
   "metadata": {},
   "outputs": [
    {
     "data": {
      "text/plain": [
       "(16.122448979591837,\n",
       "                  Age        YearsAtCompany        MonthlyIncome        \n",
       "                 mean median           mean median          mean  median\n",
       " Attrition                                                              \n",
       " No         37.561233   36.0       7.369019    6.0   6832.739659  5204.0\n",
       " Yes        33.607595   32.0       5.130802    3.0   4787.092827  3202.0)"
      ]
     },
     "execution_count": 4,
     "metadata": {},
     "output_type": "execute_result"
    }
   ],
   "source": [
    "# Calculate the attrition rate\n",
    "attrition_rate = data['Attrition'].value_counts(normalize=True)['Yes'] * 100\n",
    "\n",
    "# Basic statistics for age, years at the company, and income by attrition status\n",
    "attrition_analysis = data.groupby('Attrition').agg({\n",
    "    'Age': ['mean', 'median'],\n",
    "    'YearsAtCompany': ['mean', 'median'],\n",
    "    'MonthlyIncome': ['mean', 'median']\n",
    "})\n",
    "\n",
    "attrition_rate, attrition_analysis\n"
   ]
  },
  {
   "cell_type": "markdown",
   "id": "d03f15f4",
   "metadata": {},
   "source": [
    "# The analysis shows:\n",
    "\n",
    "Attrition Rate: The overall attrition rate is approximately 16.12%, meaning that about 16% of employees have left the company.\n",
    "\n",
    "Age:\n",
    "\n",
    "Employees who left (Yes) have an average age of about 33.6 years, with a median age of 32 years.\n",
    "Employees who stayed (No) have an average age of about 37.6 years, with a median age of 36 years.\n",
    "Years at Company:\n",
    "\n",
    "Employees who left have been at the company for an average of 5.1 years, with a median of 3 years.\n",
    "Employees who stayed have been at the company for an average of 7.4 years, with a median of 6 years.\n",
    "Monthly Income:\n",
    "\n",
    "Employees who left have an average monthly income of about $4,787, with a  median of $3,202.\n",
    "Employees who stayed have an average monthly income of about $6,833, with  a median of $5,204."
   ]
  },
  {
   "cell_type": "markdown",
   "id": "5d218bfc",
   "metadata": {},
   "source": [
    "# This suggests that younger employees, those with fewer years at the company, and those with lower incomes are more likely to leave."
   ]
  },
  {
   "cell_type": "code",
   "execution_count": null,
   "id": "ca61fe77",
   "metadata": {},
   "outputs": [],
   "source": []
  }
 ],
 "metadata": {
  "kernelspec": {
   "display_name": "Python 3 (ipykernel)",
   "language": "python",
   "name": "python3"
  },
  "language_info": {
   "codemirror_mode": {
    "name": "ipython",
    "version": 3
   },
   "file_extension": ".py",
   "mimetype": "text/x-python",
   "name": "python",
   "nbconvert_exporter": "python",
   "pygments_lexer": "ipython3",
   "version": "3.9.7"
  }
 },
 "nbformat": 4,
 "nbformat_minor": 5
}
