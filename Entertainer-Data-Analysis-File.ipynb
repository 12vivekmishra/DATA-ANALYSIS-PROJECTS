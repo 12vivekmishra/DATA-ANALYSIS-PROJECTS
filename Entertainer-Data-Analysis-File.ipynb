{
 "cells": [
  {
   "cell_type": "code",
   "execution_count": 9,
   "id": "ffb80c09",
   "metadata": {},
   "outputs": [
    {
     "data": {
      "text/html": [
       "<div>\n",
       "<style scoped>\n",
       "    .dataframe tbody tr th:only-of-type {\n",
       "        vertical-align: middle;\n",
       "    }\n",
       "\n",
       "    .dataframe tbody tr th {\n",
       "        vertical-align: top;\n",
       "    }\n",
       "\n",
       "    .dataframe thead th {\n",
       "        text-align: right;\n",
       "    }\n",
       "</style>\n",
       "<table border=\"1\" class=\"dataframe\">\n",
       "  <thead>\n",
       "    <tr style=\"text-align: right;\">\n",
       "      <th></th>\n",
       "      <th>Entertainer</th>\n",
       "      <th>Gender (traditional)</th>\n",
       "      <th>Birth Year</th>\n",
       "      <th>Year of First Oscar/Grammy/Emmy</th>\n",
       "      <th>Breakthrough Name</th>\n",
       "      <th>Year of Breakthrough/#1 Hit/Award Nomination</th>\n",
       "      <th>Year of Last Major Work (arguable)</th>\n",
       "      <th>Year of Death</th>\n",
       "    </tr>\n",
       "  </thead>\n",
       "  <tbody>\n",
       "    <tr>\n",
       "      <th>0</th>\n",
       "      <td>Adele</td>\n",
       "      <td>F</td>\n",
       "      <td>1988</td>\n",
       "      <td>2009.0</td>\n",
       "      <td>19</td>\n",
       "      <td>2008</td>\n",
       "      <td>2016</td>\n",
       "      <td>NaN</td>\n",
       "    </tr>\n",
       "    <tr>\n",
       "      <th>1</th>\n",
       "      <td>Angelina Jolie</td>\n",
       "      <td>F</td>\n",
       "      <td>1975</td>\n",
       "      <td>1999.0</td>\n",
       "      <td>Girl, Interrupted</td>\n",
       "      <td>1999</td>\n",
       "      <td>2016</td>\n",
       "      <td>NaN</td>\n",
       "    </tr>\n",
       "    <tr>\n",
       "      <th>2</th>\n",
       "      <td>Aretha Franklin</td>\n",
       "      <td>F</td>\n",
       "      <td>1942</td>\n",
       "      <td>1968.0</td>\n",
       "      <td>I Never Loved a Man (The Way I Love You)</td>\n",
       "      <td>1967</td>\n",
       "      <td>2014</td>\n",
       "      <td>NaN</td>\n",
       "    </tr>\n",
       "    <tr>\n",
       "      <th>3</th>\n",
       "      <td>Bette Davis</td>\n",
       "      <td>F</td>\n",
       "      <td>1908</td>\n",
       "      <td>1935.0</td>\n",
       "      <td>Of Human Bondage</td>\n",
       "      <td>1934</td>\n",
       "      <td>1989</td>\n",
       "      <td>1989.0</td>\n",
       "    </tr>\n",
       "    <tr>\n",
       "      <th>4</th>\n",
       "      <td>Betty White</td>\n",
       "      <td>F</td>\n",
       "      <td>1922</td>\n",
       "      <td>1976.0</td>\n",
       "      <td>Life with Elilzabeth</td>\n",
       "      <td>1952</td>\n",
       "      <td>2016</td>\n",
       "      <td>NaN</td>\n",
       "    </tr>\n",
       "  </tbody>\n",
       "</table>\n",
       "</div>"
      ],
      "text/plain": [
       "       Entertainer Gender (traditional)  Birth Year  \\\n",
       "0            Adele                    F        1988   \n",
       "1   Angelina Jolie                    F        1975   \n",
       "2  Aretha Franklin                    F        1942   \n",
       "3      Bette Davis                    F        1908   \n",
       "4      Betty White                    F        1922   \n",
       "\n",
       "   Year of First Oscar/Grammy/Emmy                         Breakthrough Name  \\\n",
       "0                           2009.0                                        19   \n",
       "1                           1999.0                         Girl, Interrupted   \n",
       "2                           1968.0  I Never Loved a Man (The Way I Love You)   \n",
       "3                           1935.0                          Of Human Bondage   \n",
       "4                           1976.0                      Life with Elilzabeth   \n",
       "\n",
       "   Year of Breakthrough/#1 Hit/Award Nomination  \\\n",
       "0                                          2008   \n",
       "1                                          1999   \n",
       "2                                          1967   \n",
       "3                                          1934   \n",
       "4                                          1952   \n",
       "\n",
       "   Year of Last Major Work (arguable)  Year of Death  \n",
       "0                                2016            NaN  \n",
       "1                                2016            NaN  \n",
       "2                                2014            NaN  \n",
       "3                                1989         1989.0  \n",
       "4                                2016            NaN  "
      ]
     },
     "execution_count": 9,
     "metadata": {},
     "output_type": "execute_result"
    }
   ],
   "source": [
    "import pandas as pd\n",
    "import matplotlib.pyplot as plt\n",
    "\n",
    "# Load the Excel file\n",
    "file_path = 'Entertainer.csv'\n",
    "data = pd.read_csv(file_path)\n",
    "\n",
    "\n",
    "\n",
    "# Display the first few rows to understand the structure\n",
    "data.head()\n"
   ]
  },
  {
   "cell_type": "markdown",
   "id": "f318cf5d",
   "metadata": {},
   "source": [
    "# Average year of living \n"
   ]
  },
  {
   "cell_type": "code",
   "execution_count": 8,
   "id": "28858a29",
   "metadata": {},
   "outputs": [
    {
     "name": "stdout",
     "output_type": "stream",
     "text": [
      "The average age at death is 70.7 years.\n"
     ]
    },
    {
     "name": "stderr",
     "output_type": "stream",
     "text": [
      "C:\\Users\\vivek\\AppData\\Local\\Temp/ipykernel_19056/4202151648.py:5: SettingWithCopyWarning: \n",
      "A value is trying to be set on a copy of a slice from a DataFrame.\n",
      "Try using .loc[row_indexer,col_indexer] = value instead\n",
      "\n",
      "See the caveats in the documentation: https://pandas.pydata.org/pandas-docs/stable/user_guide/indexing.html#returning-a-view-versus-a-copy\n",
      "  deceased_entertainers['Age at Death'] = deceased_entertainers['Year of Death'] - deceased_entertainers['Birth Year']\n"
     ]
    }
   ],
   "source": [
    "# Filter out the entertainers who have passed away (non-null Year of Death)\n",
    "deceased_entertainers = data.dropna(subset=['Year of Death'])\n",
    "\n",
    "# Calculate the age at death\n",
    "deceased_entertainers['Age at Death'] = deceased_entertainers['Year of Death'] - deceased_entertainers['Birth Year']\n",
    "\n",
    "# Calculate the average age at death\n",
    "average_age_at_death = deceased_entertainers['Age at Death'].mean()\n",
    "\n",
    "print(f\"The average age at death is {average_age_at_death:.1f} years.\")\n"
   ]
  },
  {
   "cell_type": "code",
   "execution_count": 10,
   "id": "f3b59d13",
   "metadata": {},
   "outputs": [
    {
     "data": {
      "image/png": "[encoded data removed]",
      "text/plain": [
       "<Figure size 720x432 with 1 Axes>"
      ]
     },
     "metadata": {
      "needs_background": "light"
     },
     "output_type": "display_data"
    }
   ],
   "source": [
    "# Separate data by gender\n",
    "male_entertainers = data[data['Gender (traditional)'] == 'M']\n",
    "female_entertainers = data[data['Gender (traditional)'] == 'F']\n",
    "\n",
    "# Find the most common breakthrough year for males\n",
    "most_common_breakthrough_male = male_entertainers['Year of Breakthrough/#1 Hit/Award Nomination'].value_counts().idxmax()\n",
    "\n",
    "# Find the most common breakthrough year for females\n",
    "most_common_breakthrough_female = female_entertainers['Year of Breakthrough/#1 Hit/Award Nomination'].value_counts().idxmax()\n",
    "\n",
    "# Count the occurrences of breakthrough years for visualization\n",
    "male_breakthrough_counts = male_entertainers['Year of Breakthrough/#1 Hit/Award Nomination'].value_counts()\n",
    "female_breakthrough_counts = female_entertainers['Year of Breakthrough/#1 Hit/Award Nomination'].value_counts()\n",
    "\n",
    "# Plot the data\n",
    "plt.figure(figsize=(10, 6))\n",
    "plt.bar(male_breakthrough_counts.index, male_breakthrough_counts.values, alpha=0.7, label='Male')\n",
    "plt.bar(female_breakthrough_counts.index, female_breakthrough_counts.values, alpha=0.7, label='Female')\n",
    "\n",
    "# Highlight the most common breakthrough year for both\n",
    "plt.axvline(most_common_breakthrough_male, color='blue', linestyle='--', label=f'Most Common Male: {most_common_breakthrough_male}')\n",
    "plt.axvline(most_common_breakthrough_female, color='pink', linestyle='--', label=f'Most Common Female: {most_common_breakthrough_female}')\n",
    "\n",
    "plt.xlabel('Year of Breakthrough')\n",
    "plt.ylabel('Number of Entertainers')\n",
    "plt.title('Most Common Breakthrough Year by Gender')\n",
    "plt.legend()\n",
    "plt.show()"
   ]
  },
  {
   "cell_type": "markdown",
   "id": "0b00d993",
   "metadata": {},
   "source": [
    "\n",
    "# Common year of breakthrough in Males and Females"
   ]
  },
  {
   "cell_type": "code",
   "execution_count": 11,
   "id": "097fc1fa",
   "metadata": {},
   "outputs": [
    {
     "data": {
      "image/png": "[encoded data removed]",
      "text/plain": [
       "<Figure size 720x432 with 1 Axes>"
      ]
     },
     "metadata": {
      "needs_background": "light"
     },
     "output_type": "display_data"
    }
   ],
   "source": [
    "# Filter data where both breakthrough year and death year are available\n",
    "filtered_data = data.dropna(subset=['Year of Breakthrough/#1 Hit/Award Nomination', 'Year of Death'])\n",
    "\n",
    "# Extract relevant columns\n",
    "breakthrough_year = filtered_data['Year of Breakthrough/#1 Hit/Award Nomination']\n",
    "death_year = filtered_data['Year of Death']\n",
    "\n",
    "# Create the scatter plot\n",
    "plt.figure(figsize=(10, 6))\n",
    "plt.scatter(breakthrough_year, death_year, alpha=0.7, color='purple')\n",
    "\n",
    "# Add labels and title\n",
    "plt.xlabel('Year of Breakthrough')\n",
    "plt.ylabel('Year of Death')\n",
    "plt.title('Relationship Between Breakthrough Year and Death Year')\n",
    "plt.grid(True)\n",
    "\n",
    "# Show the plot\n",
    "plt.show()"
   ]
  },
  {
   "cell_type": "markdown",
   "id": "b24764e2",
   "metadata": {},
   "source": [
    "\n",
    "# Gap between breakthrough year and Death year"
   ]
  },
  {
   "cell_type": "code",
   "execution_count": 12,
   "id": "4515b99e",
   "metadata": {},
   "outputs": [
    {
     "name": "stderr",
     "output_type": "stream",
     "text": [
      "C:\\Users\\vivek\\AppData\\Local\\Temp/ipykernel_19056/1798776680.py:5: SettingWithCopyWarning: \n",
      "A value is trying to be set on a copy of a slice from a DataFrame.\n",
      "Try using .loc[row_indexer,col_indexer] = value instead\n",
      "\n",
      "See the caveats in the documentation: https://pandas.pydata.org/pandas-docs/stable/user_guide/indexing.html#returning-a-view-versus-a-copy\n",
      "  filtered_data['Years After Breakthrough'] = filtered_data['Year of Death'] - filtered_data['Year of Breakthrough/#1 Hit/Award Nomination']\n"
     ]
    },
    {
     "data": {
      "image/png": "[encoded data removed]",
      "text/plain": [
       "<Figure size 720x432 with 1 Axes>"
      ]
     },
     "metadata": {
      "needs_background": "light"
     },
     "output_type": "display_data"
    }
   ],
   "source": [
    "# Filter data where both breakthrough year and death year are available\n",
    "filtered_data = data.dropna(subset=['Year of Breakthrough/#1 Hit/Award Nomination', 'Year of Death'])\n",
    "\n",
    "# Calculate years lived after breakthrough\n",
    "filtered_data['Years After Breakthrough'] = filtered_data['Year of Death'] - filtered_data['Year of Breakthrough/#1 Hit/Award Nomination']\n",
    "\n",
    "# Separate data by gender\n",
    "male_lifespan = filtered_data[filtered_data['Gender (traditional)'] == 'M']['Years After Breakthrough']\n",
    "female_lifespan = filtered_data[filtered_data['Gender (traditional)'] == 'F']['Years After Breakthrough']\n",
    "\n",
    "# Create a box plot to compare\n",
    "plt.figure(figsize=(10, 6))\n",
    "plt.boxplot([male_lifespan.dropna(), female_lifespan.dropna()], labels=['Males', 'Females'])\n",
    "\n",
    "# Add labels and title\n",
    "plt.xlabel('Gender')\n",
    "plt.ylabel('Years Lived After Breakthrough')\n",
    "plt.title('Comparison of Lifespan After Breakthrough by Gender')\n",
    "plt.grid(True)\n",
    "\n",
    "# Show the plot\n",
    "plt.show()"
   ]
  },
  {
   "cell_type": "markdown",
   "id": "eac1eea8",
   "metadata": {},
   "source": [
    "# who lives more males or females after breakthrough year"
   ]
  },
  {
   "cell_type": "code",
   "execution_count": null,
   "id": "09c34fe0",
   "metadata": {},
   "outputs": [],
   "source": []
  }
 ],
 "metadata": {
  "kernelspec": {
   "display_name": "Python 3 (ipykernel)",
   "language": "python",
   "name": "python3"
  },
  "language_info": {
   "codemirror_mode": {
    "name": "ipython",
    "version": 3
   },
   "file_extension": ".py",
   "mimetype": "text/x-python",
   "name": "python",
   "nbconvert_exporter": "python",
   "pygments_lexer": "ipython3",
   "version": "3.9.7"
  }
 },
 "nbformat": 4,
 "nbformat_minor": 5
}
